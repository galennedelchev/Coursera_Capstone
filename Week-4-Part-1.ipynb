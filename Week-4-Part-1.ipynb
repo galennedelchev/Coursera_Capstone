{
 "cells": [
  {
   "cell_type": "markdown",
   "metadata": {},
   "source": [
    "# Coursera Capstone Report - Week 4"
   ]
  },
  {
   "cell_type": "markdown",
   "metadata": {},
   "source": [
    "## 1. Introduction\n"
   ]
  },
  {
   "cell_type": "markdown",
   "metadata": {},
   "source": [
    "### 1.1 Problem description"
   ]
  },
  {
   "cell_type": "markdown",
   "metadata": {},
   "source": [
    "Over the course of the last few weeks, we have seen how we can manipulate geographical data to visualize it and extrapolate information. Using the same data set, along with location queries fulfilled by foursquare, we can now enhance the dataset we obtained in Week 3. The problem which we have chosen to tackle is deciding on what type of business we would like to invest in, based on the most popular types of venues in East Toronto."
   ]
  },
  {
   "cell_type": "markdown",
   "metadata": {},
   "source": [
    "### 1.2 Background discussion"
   ]
  },
  {
   "cell_type": "markdown",
   "metadata": {},
   "source": [
    "Toronto is Canada's most populous city and is located on Lake Ontario’s northwestern shore. Within the city of Toronto is the the borough of Toronto and one of its regions is called East Toronto, or more commonly referred to as the East End. It used to be a borough of its own before being annexed to Toronto more than 100 years ago. Today, it is a lively place full of many cultural sites and thriving atmosphere. It currently consists of 5 neighborhoods. "
   ]
  }
 ],
 "metadata": {
  "kernelspec": {
   "display_name": "Python",
   "language": "python",
   "name": "conda-env-python-py"
  },
  "language_info": {
   "codemirror_mode": {
    "name": "ipython",
    "version": 3
   },
   "file_extension": ".py",
   "mimetype": "text/x-python",
   "name": "python",
   "nbconvert_exporter": "python",
   "pygments_lexer": "ipython3",
   "version": "3.6.10"
  }
 },
 "nbformat": 4,
 "nbformat_minor": 4
}
